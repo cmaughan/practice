{
 "cells": [
  {
   "cell_type": "markdown",
   "metadata": {},
   "source": [
    "#### Day 1\n",
    "\n",
    "Group integers, add them, sort them and get the last 1 or 3."
   ]
  },
  {
   "cell_type": "code",
   "execution_count": 10,
   "metadata": {},
   "outputs": [
    {
     "name": "stdout",
     "output_type": "stream",
     "text": [
      "66616\n",
      "199172\n",
      "0.0011 seconds\n"
     ]
    }
   ],
   "source": [
    "from aoc import *\n",
    "import time\n",
    "\n",
    "a = time.perf_counter()\n",
    "vals =[] \n",
    "with open(f\"inputs/01.txt\") as f:\n",
    "    for elf in f.read().strip().split(\"\\n\\n\"):\n",
    "        vals.append(sum(map(int, elf.split(\"\\n\"))))\n",
    "vals.sort(reverse = True)\n",
    "print(vals[0])\n",
    "print(sum(vals[:3]))\n",
    "b = time.perf_counter()\n",
    "print(f\"{b - a:0.4f} seconds\")\n",
    "\n"
   ]
  },
  {
   "cell_type": "markdown",
   "metadata": {},
   "source": []
  }
 ],
 "metadata": {
  "kernelspec": {
   "display_name": "Python 3.10.4 64-bit ('3.10.4')",
   "language": "python",
   "name": "python3"
  },
  "language_info": {
   "codemirror_mode": {
    "name": "ipython",
    "version": 3
   },
   "file_extension": ".py",
   "mimetype": "text/x-python",
   "name": "python",
   "nbconvert_exporter": "python",
   "pygments_lexer": "ipython3",
   "version": "3.10.4"
  },
  "orig_nbformat": 4,
  "vscode": {
   "interpreter": {
    "hash": "bddc574bb115ac00d4e42e34b96aaaf4da300bbd7e5b8ff0ad5e5aaccd9e4c48"
   }
  }
 },
 "nbformat": 4,
 "nbformat_minor": 2
}
